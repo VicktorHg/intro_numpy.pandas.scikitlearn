{
  "nbformat": 4,
  "nbformat_minor": 0,
  "metadata": {
    "colab": {
      "provenance": [],
      "authorship_tag": "ABX9TyOhSop/JdhuCKO3NqZkkGM8",
      "include_colab_link": true
    },
    "kernelspec": {
      "name": "python3",
      "display_name": "Python 3"
    },
    "language_info": {
      "name": "python"
    }
  },
  "cells": [
    {
      "cell_type": "markdown",
      "metadata": {
        "id": "view-in-github",
        "colab_type": "text"
      },
      "source": [
        "<a href=\"https://colab.research.google.com/github/VicktorHg/intro_numpy.pandas.scikitlearn/blob/main/Intro_to_Numpy.ipynb\" target=\"_parent\"><img src=\"https://colab.research.google.com/assets/colab-badge.svg\" alt=\"Open In Colab\"/></a>"
      ]
    },
    {
      "cell_type": "markdown",
      "source": [
        "**Intro to numpy**"
      ],
      "metadata": {
        "id": "RwQ86OdQhUgI"
      }
    },
    {
      "cell_type": "code",
      "execution_count": null,
      "metadata": {
        "id": "jyfBGRgJTtfb"
      },
      "outputs": [],
      "source": [
        "import numpy as np\n",
        "# numpy - numeric python\n",
        "# ndarray = n-dimensional array"
      ]
    },
    {
      "cell_type": "code",
      "source": [
        "#Usamos primero una lista normal en python\n",
        "list1 = [1,2,3,4,5]\n",
        "print(list1)\n",
        "print(list1[0])\n",
        "\n",
        "list2 = [\"john elder\", 41, list1, True]\n",
        "print(list2)"
      ],
      "metadata": {
        "colab": {
          "base_uri": "https://localhost:8080/"
        },
        "id": "pGu7nBKaUSqb",
        "outputId": "c31d1e23-3d8a-4c1e-bb5e-888dde155a44"
      },
      "execution_count": null,
      "outputs": [
        {
          "output_type": "stream",
          "name": "stdout",
          "text": [
            "[1, 2, 3, 4, 5]\n",
            "1\n",
            "['john elder', 41, [1, 2, 3, 4, 5], True]\n"
          ]
        }
      ]
    },
    {
      "cell_type": "code",
      "source": [
        "#lista en numpy\n",
        "np1 = np.array([0,1,2,3,4,5,6,7,8,9,10])\n",
        "print(np1)\n",
        "print(np1.shape)"
      ],
      "metadata": {
        "colab": {
          "base_uri": "https://localhost:8080/"
        },
        "id": "zQTNdMOUVAsw",
        "outputId": "d9331a64-b937-4a88-f5a3-b6d51e4cd86a"
      },
      "execution_count": null,
      "outputs": [
        {
          "output_type": "stream",
          "name": "stdout",
          "text": [
            "[ 0  1  2  3  4  5  6  7  8  9 10]\n",
            "(11,)\n"
          ]
        }
      ]
    },
    {
      "cell_type": "code",
      "source": [
        "#range\n",
        "np2 = np.arange(12)\n",
        "print(np2, \"\\n\")\n",
        "\n",
        "#step\n",
        "np3 = np.arange(0,10,2)\n",
        "print(np3, \"\\n\")\n",
        "\n",
        "#zeros\n",
        "np4 = np.zeros(12)\n",
        "print(np4, \"\\n\")\n",
        "\n",
        "#multidimensional zeros\n",
        "np5 = np.zeros((5,5))\n",
        "print(np5, \"\\n\")\n",
        "\n",
        "#full\n",
        "np6 = np.full((5,5), 6)\n",
        "print(np6, \"\\n\")\n",
        "\n",
        "#convert pythin list to np\n",
        "my_list = [1,2,3,4,5]\n",
        "np8 = np.array(my_list)\n",
        "print(np8)"
      ],
      "metadata": {
        "colab": {
          "base_uri": "https://localhost:8080/"
        },
        "id": "Y56BCgOPV3lq",
        "outputId": "7e281430-4deb-4247-ba41-67c2070941a9"
      },
      "execution_count": null,
      "outputs": [
        {
          "output_type": "stream",
          "name": "stdout",
          "text": [
            "[ 0  1  2  3  4  5  6  7  8  9 10 11] \n",
            "\n",
            "[0 2 4 6 8] \n",
            "\n",
            "[0. 0. 0. 0. 0. 0. 0. 0. 0. 0. 0. 0.] \n",
            "\n",
            "[[0. 0. 0. 0. 0.]\n",
            " [0. 0. 0. 0. 0.]\n",
            " [0. 0. 0. 0. 0.]\n",
            " [0. 0. 0. 0. 0.]\n",
            " [0. 0. 0. 0. 0.]] \n",
            "\n",
            "[[6 6 6 6 6]\n",
            " [6 6 6 6 6]\n",
            " [6 6 6 6 6]\n",
            " [6 6 6 6 6]\n",
            " [6 6 6 6 6]] \n",
            "\n",
            "[1 2 3 4 5]\n"
          ]
        }
      ]
    },
    {
      "cell_type": "markdown",
      "source": [
        "**Slicing numpy arrays**\n",
        "\n"
      ],
      "metadata": {
        "id": "860wcqY7hcWa"
      }
    },
    {
      "cell_type": "code",
      "source": [
        "#slicing numpy arrays\n",
        "#return 1,2,3,4\n",
        "print(np1[1:5], \"\\n\")\n",
        "\n",
        "#return from somethin till the end of the array\n",
        "print(np1[3:], \"\\n\")\n",
        "\n",
        "#return negative slices\n",
        "print(np1[-3:-1], \"\\n\")\n",
        "\n",
        "#steps\n",
        "print(np1[1:5], \"\\n\") #1 to 4\n",
        "print(np1[1:5:2], \"\\n\") #1 to 3 in steps of 2\n",
        "\n",
        "#steps on the entire array\n",
        "print(np1[::2], \"\\n\")\n",
        "print(np1[::3], \"\\n\")\n",
        "\n",
        "#slice a 2-d array\n",
        "np9 = np.array([[1,2,3,4,5],[6,7,8,9,10]], \"\\n\")\n",
        "#the first array is 0, and the second is 1\n",
        "\n",
        "#pull out a single item\n",
        "print(np9[1,2], \"\\n\")\n",
        "\n",
        "#slice a 2-d array 2,3\n",
        "print(np9[0:1, 1:3], \"\\n\")\n",
        "#slice from both rows 2,3 and 7,8\n",
        "print(np9[0:2, 1:3], \"\\n\")"
      ],
      "metadata": {
        "colab": {
          "base_uri": "https://localhost:8080/"
        },
        "id": "zE4emD7YZLV0",
        "outputId": "32d60e07-9e65-4824-a20e-bff9fd72641a"
      },
      "execution_count": null,
      "outputs": [
        {
          "output_type": "stream",
          "name": "stdout",
          "text": [
            "[1 2 3 4] \n",
            "\n",
            "[ 3  4  5  6  7  8  9 10] \n",
            "\n",
            "[8 9] \n",
            "\n",
            "[1 2 3 4] \n",
            "\n",
            "[1 3] \n",
            "\n",
            "[ 0  2  4  6  8 10] \n",
            "\n",
            "[0 3 6 9] \n",
            "\n",
            "8 \n",
            "\n",
            "[[2 3]] \n",
            "\n",
            "[[2 3]\n",
            " [7 8]] \n",
            "\n"
          ]
        }
      ]
    },
    {
      "cell_type": "markdown",
      "source": [
        "**Numpy universal functions**"
      ],
      "metadata": {
        "id": "ek7l7YbehoSX"
      }
    },
    {
      "cell_type": "code",
      "source": [
        "#universal functions in numpy\n",
        "#square route of each element\n",
        "print(np.sqrt(np9), \"\\n\")\n",
        "\n",
        "#absolute value\n",
        "np10 = np.array([-3,-2,-1,0,1,2,3])\n",
        "print(np.absolute(np10), \"\\n\")\n",
        "\n",
        "#exponentials\n",
        "#It calculates ex for each x in your list where e is Euler's number (approximately 2.718)\n",
        "print(np.exp(np10), \"\\n\")\n",
        "\n",
        "#min/max\n",
        "print(np.min(np10))\n",
        "print(np.max(np10), \"\\n\")\n",
        "\n",
        "#sign positive or negative\n",
        "np11 = np.array([1,2,3,4,5,6,7,8,9,10])\n",
        "print(np.sign(np11), \"\\n\")\n",
        "\n",
        "#trig sin/cos/log\n",
        "print(np.sin(np11), \"\\n\")\n",
        "print(np.cos(np11), \"\\n\")\n",
        "print(np.log(np11), \"\\n\")"
      ],
      "metadata": {
        "colab": {
          "base_uri": "https://localhost:8080/"
        },
        "id": "yM6epVHbqKpD",
        "outputId": "d8ae3e0a-7187-41b3-a589-be466a59aff7"
      },
      "execution_count": null,
      "outputs": [
        {
          "output_type": "stream",
          "name": "stdout",
          "text": [
            "[[1.         1.41421356 1.73205081 2.         2.23606798]\n",
            " [2.44948974 2.64575131 2.82842712 3.         3.16227766]] \n",
            "\n",
            "[3 2 1 0 1 2 3] \n",
            "\n",
            "[ 0.04978707  0.13533528  0.36787944  1.          2.71828183  7.3890561\n",
            " 20.08553692] \n",
            "\n",
            "-3\n",
            "3 \n",
            "\n",
            "[1 1 1 1 1 1 1 1 1 1] \n",
            "\n",
            "[ 0.84147098  0.90929743  0.14112001 -0.7568025  -0.95892427 -0.2794155\n",
            "  0.6569866   0.98935825  0.41211849 -0.54402111] \n",
            "\n",
            "[ 0.54030231 -0.41614684 -0.9899925  -0.65364362  0.28366219  0.96017029\n",
            "  0.75390225 -0.14550003 -0.91113026 -0.83907153] \n",
            "\n",
            "[0.         0.69314718 1.09861229 1.38629436 1.60943791 1.79175947\n",
            " 1.94591015 2.07944154 2.19722458 2.30258509] \n",
            "\n"
          ]
        }
      ]
    },
    {
      "cell_type": "markdown",
      "source": [
        "**Numpy array copy vs view**"
      ],
      "metadata": {
        "id": "Vi5Y6tBahuIS"
      }
    },
    {
      "cell_type": "code",
      "source": [
        "#copy vs view\n",
        "#declare a new array\n",
        "\n",
        "np12 = np.array([0,1,2,3,4,5])\n",
        "\n",
        "'''\n",
        "#create a view\n",
        "np13 = np12.view()\n",
        "\n",
        "print(f'Original NP1 {np12}')\n",
        "print(f'Original NP2 {np13}', \"\\n\")\n",
        "\n",
        "np12[0] = 41\n",
        "\n",
        "print(f'Changed NP1 {np12}')\n",
        "print(f'Original NP2 {np12}', \"\\n\")\n",
        "'''\n",
        "\n",
        "#create a copy\n",
        "\n",
        "np13 = np12.copy()\n",
        "print(f'Original NP1 {np12}')\n",
        "print(f'Original NP2 {np13}', \"\\n\")\n",
        "\n",
        "np12[0] =41\n",
        "\n",
        "print(f'Changed NP1 {np12}')\n",
        "print(f'Original NP2 {np13}', \"\\n\")"
      ],
      "metadata": {
        "colab": {
          "base_uri": "https://localhost:8080/"
        },
        "id": "boYTgJQwxMj8",
        "outputId": "8168ed36-20c2-4a33-c2ec-8f422b9461e6"
      },
      "execution_count": null,
      "outputs": [
        {
          "output_type": "stream",
          "name": "stdout",
          "text": [
            "Original NP1 [0 1 2 3 4 5]\n",
            "Original NP2 [0 1 2 3 4 5] \n",
            "\n",
            "Changed NP1 [41  1  2  3  4  5]\n",
            "Original NP2 [0 1 2 3 4 5] \n",
            "\n"
          ]
        }
      ]
    },
    {
      "cell_type": "markdown",
      "source": [
        "**Shape and Rechape numpy arrays**"
      ],
      "metadata": {
        "id": "oOEXTA09h2zy"
      }
    },
    {
      "cell_type": "code",
      "source": [
        "#create 1-D numpy array and get shape\n",
        "np14 = np.array([1,2,3,4,5,6,7,8,9,10,11,12])\n",
        "print(np14)\n",
        "print(\"shape: \", np14.shape, \"\\n\")\n",
        "\n",
        "#create 2-D (rows/columns)\n",
        "np15 = np.array([[1,2,3,4,5,6],[7,8,9,10,11,12]])\n",
        "print(np15)\n",
        "print(\"shape: \", np15.shape, \"\\n\")\n",
        "\n",
        "#reshape 1-D in 2-D\n",
        "np16 = np14.reshape(3,4)\n",
        "print(np16)\n",
        "print(\"shape: \", np16.shape, \"\\n\")\n",
        "\n",
        "#reshape 3-D\n",
        "np17 = np14.reshape(2,3,2)\n",
        "print(np17)\n",
        "print(\"shape: \", np17.shape, \"\\n\")\n",
        "\n",
        "#flatten to 1-D\n",
        "np18 = np17.reshape(-1)\n",
        "print(np18)\n",
        "print(\"shape: \", np18.shape, \"\\n\")"
      ],
      "metadata": {
        "colab": {
          "base_uri": "https://localhost:8080/"
        },
        "id": "MfV1C1mu02d3",
        "outputId": "8f6aaa7b-5cd1-4731-e88c-3fb6c602fb0e"
      },
      "execution_count": null,
      "outputs": [
        {
          "output_type": "stream",
          "name": "stdout",
          "text": [
            "[ 1  2  3  4  5  6  7  8  9 10 11 12]\n",
            "shape:  (12,) \n",
            "\n",
            "[[ 1  2  3  4  5  6]\n",
            " [ 7  8  9 10 11 12]]\n",
            "shape:  (2, 6) \n",
            "\n",
            "[[ 1  2  3  4]\n",
            " [ 5  6  7  8]\n",
            " [ 9 10 11 12]]\n",
            "shape:  (3, 4) \n",
            "\n",
            "[[[ 1  2]\n",
            "  [ 3  4]\n",
            "  [ 5  6]]\n",
            "\n",
            " [[ 7  8]\n",
            "  [ 9 10]\n",
            "  [11 12]]]\n",
            "shape:  (2, 3, 2) \n",
            "\n",
            "[ 1  2  3  4  5  6  7  8  9 10 11 12]\n",
            "shape:  (12,) \n",
            "\n"
          ]
        }
      ]
    },
    {
      "cell_type": "markdown",
      "source": [
        "**Iterating through numpy arrays**"
      ],
      "metadata": {
        "id": "xvCeB6IWh_yM"
      }
    },
    {
      "cell_type": "code",
      "source": [
        "#array 1-D\n",
        "import numpy as np\n",
        "np20 = np.array([1,2,3,4,5,6,7,8,9,10])\n",
        "for x in np20:\n",
        "  print(x)"
      ],
      "metadata": {
        "id": "59iBZSWk6_3A",
        "colab": {
          "base_uri": "https://localhost:8080/"
        },
        "outputId": "4228a437-9144-4e46-82bc-c387f2d62332"
      },
      "execution_count": null,
      "outputs": [
        {
          "output_type": "stream",
          "name": "stdout",
          "text": [
            "1\n",
            "2\n",
            "3\n",
            "4\n",
            "5\n",
            "6\n",
            "7\n",
            "8\n",
            "9\n",
            "10\n"
          ]
        }
      ]
    },
    {
      "cell_type": "code",
      "source": [
        "np21 = np.array([[1,2,3,4,5],[6,7,8,9,10]])\n",
        "for x in np21:\n",
        "  print(x, \"\\n\")\n",
        "  for y in x:\n",
        "    print(y)"
      ],
      "metadata": {
        "colab": {
          "base_uri": "https://localhost:8080/"
        },
        "id": "MW9qHx0Le6iE",
        "outputId": "ee761ed9-d9e6-4b8a-aaee-fd75e2139328"
      },
      "execution_count": null,
      "outputs": [
        {
          "output_type": "stream",
          "name": "stdout",
          "text": [
            "[1 2 3 4 5] \n",
            "\n",
            "1\n",
            "2\n",
            "3\n",
            "4\n",
            "5\n",
            "[ 6  7  8  9 10] \n",
            "\n",
            "6\n",
            "7\n",
            "8\n",
            "9\n",
            "10\n"
          ]
        }
      ]
    },
    {
      "cell_type": "code",
      "source": [
        "# 3-D array\n",
        "np23 = np.array([[[1,2,3],[4,5,6]],[[7,8,9],[10,11,12]]])\n",
        "for x in np23:\n",
        "  #print(x)\n",
        "  for y in x:\n",
        "   # print(y)\n",
        "    for z in y:\n",
        "      print(y)"
      ],
      "metadata": {
        "colab": {
          "base_uri": "https://localhost:8080/"
        },
        "id": "IY0-X3qofn5q",
        "outputId": "752f76e3-6620-4a32-e349-3eb9110fd7c3"
      },
      "execution_count": null,
      "outputs": [
        {
          "output_type": "stream",
          "name": "stdout",
          "text": [
            "[1 2 3]\n",
            "[1 2 3]\n",
            "[1 2 3]\n",
            "[4 5 6]\n",
            "[4 5 6]\n",
            "[4 5 6]\n",
            "[7 8 9]\n",
            "[7 8 9]\n",
            "[7 8 9]\n",
            "[10 11 12]\n",
            "[10 11 12]\n",
            "[10 11 12]\n"
          ]
        }
      ]
    },
    {
      "cell_type": "code",
      "source": [
        "#use np.nditer\n",
        "\n",
        "for x in np.nditer(np23):\n",
        "  print(x)"
      ],
      "metadata": {
        "colab": {
          "base_uri": "https://localhost:8080/"
        },
        "id": "i6m1Osafg0lh",
        "outputId": "bf5505f7-bf4d-4d96-f960-a7851ac2ddcc"
      },
      "execution_count": null,
      "outputs": [
        {
          "output_type": "stream",
          "name": "stdout",
          "text": [
            "1\n",
            "2\n",
            "3\n",
            "4\n",
            "5\n",
            "6\n",
            "7\n",
            "8\n",
            "9\n",
            "10\n",
            "11\n",
            "12\n"
          ]
        }
      ]
    },
    {
      "cell_type": "markdown",
      "source": [
        "**Sorting numpy arrays the right way**"
      ],
      "metadata": {
        "id": "w_fnlT85hLKR"
      }
    },
    {
      "cell_type": "code",
      "source": [
        "import numpy as np\n",
        "#np.sort()\n",
        "np1 = np.array([6,7,4,9,0,2,1])\n",
        "print(np.sort(np1), \"\\n\")\n",
        "\n",
        "#numerical\n",
        "np2 = np.array([\"john\", \"Tina\", \"Aaron\", \"Vicktor\", \"Marielle\", \"Zed\"])\n",
        "print(np.sort(np2), \"\\n\")\n",
        "\n",
        "#booleans\n",
        "np3 = np.array(([True, False, True, False]))\n",
        "print(np.sort(np3), \"\\n\")\n",
        "\n",
        "#return a copy not change the original\n",
        "print((np1))\n",
        "print(np.sort(np1))\n",
        "print((np1), \"\\n\")\n",
        "\n",
        "#2-D\n",
        "\n",
        "np4 = np.array([[34,87,1,],[87,99,45,]])\n",
        "print(np.sort(np4))"
      ],
      "metadata": {
        "id": "_7OvIUvGhJVX",
        "colab": {
          "base_uri": "https://localhost:8080/"
        },
        "outputId": "6a077301-b0d8-4615-c023-7650c9a4a772"
      },
      "execution_count": 7,
      "outputs": [
        {
          "output_type": "stream",
          "name": "stdout",
          "text": [
            "[0 1 2 4 6 7 9] \n",
            "\n",
            "['Aaron' 'Marielle' 'Tina' 'Vicktor' 'Zed' 'john'] \n",
            "\n",
            "[False False  True  True] \n",
            "\n",
            "[6 7 4 9 0 2 1]\n",
            "[0 1 2 4 6 7 9]\n",
            "[6 7 4 9 0 2 1] \n",
            "\n",
            "[[ 1 34 87]\n",
            " [45 87 99]]\n"
          ]
        }
      ]
    },
    {
      "cell_type": "code",
      "source": [
        "#search\n",
        "np5 = np.array([1,2,3,4,5,6,7,8,9,10])\n",
        "\n",
        "x = np.where(np5 == 3)\n",
        "print(np5)\n",
        "print(x[0])\n",
        "print(np5[x[0]], \"\\n\")\n",
        "\n",
        "#return even items\n",
        "\n",
        "y = np.where(np5 % 2 == 0)\n",
        "print(np5)\n",
        "print(\"their position are: \", y[0])\n",
        "print(\"the numbers are: \", np5[y[0]], \"\\n\")\n",
        "\n",
        "#return odd items\n",
        "\n",
        "z = np.where(np5 % 2 == 1)\n",
        "print(np5)\n",
        "print(\"their position are: \", z[0])\n",
        "print(\"the numbers are: \", np5[z[0]], \"\\n\")"
      ],
      "metadata": {
        "colab": {
          "base_uri": "https://localhost:8080/"
        },
        "id": "MWpnRA4uT20M",
        "outputId": "b61ce2db-70ee-43da-b104-4e7fa22e42dc"
      },
      "execution_count": 13,
      "outputs": [
        {
          "output_type": "stream",
          "name": "stdout",
          "text": [
            "[ 1  2  3  4  5  6  7  8  9 10]\n",
            "[2]\n",
            "[3] \n",
            "\n",
            "[ 1  2  3  4  5  6  7  8  9 10]\n",
            "their position are:  [1 3 5 7 9]\n",
            "the numbers are:  [ 2  4  6  8 10] \n",
            "\n",
            "[ 1  2  3  4  5  6  7  8  9 10]\n",
            "their position are:  [0 2 4 6 8]\n",
            "the numbers are:  [1 3 5 7 9] \n",
            "\n"
          ]
        }
      ]
    },
    {
      "cell_type": "code",
      "source": [
        "#filtering numpy arrays with boolean index list\n",
        "np6 = np.array([1,2,3,4,5,6,7,8,9,10])\n",
        "\n",
        "x = [True, True, False, False, False, False, False, False, False, False]\n",
        "print(np6)\n",
        "print(np6[x], \"\\n\")\n",
        "\n",
        "#filter\n",
        "filtered = []\n",
        "for thing in np6:\n",
        "  if thing % 2 == 0:\n",
        "    filtered.append(True)\n",
        "  else:\n",
        "    filtered.append(False)\n",
        "\n",
        "print(np6)\n",
        "print(filtered)\n",
        "print(np6[filtered], \"\\n\")\n",
        "\n",
        "#another way\n",
        "\n",
        "print(np6)\n",
        "print(filtered)\n",
        "print(np6[filtered], \"\\n\")\n",
        "\n",
        "#shortcut\n",
        "filtered = np6 % 2 == 1\n",
        "print(np6)\n",
        "print(filtered)\n",
        "print(np6[filtered])\n"
      ],
      "metadata": {
        "colab": {
          "base_uri": "https://localhost:8080/"
        },
        "id": "-WY5IUsNV7_E",
        "outputId": "c02b13be-5f3f-403b-860a-5abb75036c89"
      },
      "execution_count": 22,
      "outputs": [
        {
          "output_type": "stream",
          "name": "stdout",
          "text": [
            "[ 1  2  3  4  5  6  7  8  9 10]\n",
            "[1 2] \n",
            "\n",
            "[ 1  2  3  4  5  6  7  8  9 10]\n",
            "[False, True, False, True, False, True, False, True, False, True]\n",
            "[ 2  4  6  8 10] \n",
            "\n",
            "[ 1  2  3  4  5  6  7  8  9 10]\n",
            "[False, True, False, True, False, True, False, True, False, True]\n",
            "[ 2  4  6  8 10] \n",
            "\n",
            "[ 1  2  3  4  5  6  7  8  9 10]\n",
            "[ True False  True False  True False  True False  True False]\n",
            "[1 3 5 7 9]\n"
          ]
        }
      ]
    }
  ]
}